{
 "cells": [
  {
   "cell_type": "code",
   "execution_count": 1,
   "metadata": {},
   "outputs": [],
   "source": [
    "import requests\n",
    "from bs4 import BeautifulSoup\n",
    "\n",
    "# IMDb top 250 URL\n",
    "url = \"https://www.imdb.com/chart/top/\"\n",
    "\n",
    "headers = {\n",
    "     \"User-Agent\": \"Mozilla/5.0 (Windows NT 10.0; Win64; x64) AppleWebKit/537.36 (KHTML, like Gecko) Chrome/91.0.4472.124 Safari/537.36\"\n",
    "}\n",
    "\n",
    "response = requests.get(url, headers=headers)\n",
    "\n",
    "if response.status_code == 200:\n",
    "    soup = BeautifulSoup(response.text, \"html.parser\")\n",
    "\n",
    "    movies = soup.select(\"tbody.lister-list tr\")\n",
    "\n",
    "    top_50_movies = []\n",
    "\n",
    "\n",
    "    for i, movie in enumerate(movies[:50], start=1):\n",
    "        title_column = movie.select_one(\"td.titleColumn\")\n",
    "        rating_column = movie.select_one(\"td.ratingColumn strong\")\n",
    "\n",
    "        if title_column and rating_column:\n",
    "            title = title_column.a.text.strip()\n",
    "            year = title_column.span.text.strip(\"()\")\n",
    "            rating = rating_column.text.strip()\n",
    "\n",
    "        top_50_movies.append(f\"{i}. {title} ({year}) - ⭐ {rating}\")\n",
    "\n",
    "\n",
    "    for movie in top_50_movies:\n",
    "        print(movie, flush=True)\n",
    "\n",
    "else:\n",
    "    print(f\"Failed to fetch data. HTTP Status Code: {response.status_code}\")"
   ]
  }
 ],
 "metadata": {
  "kernelspec": {
   "display_name": "Python 3",
   "language": "python",
   "name": "python3"
  },
  "language_info": {
   "codemirror_mode": {
    "name": "ipython",
    "version": 3
   },
   "file_extension": ".py",
   "mimetype": "text/x-python",
   "name": "python",
   "nbconvert_exporter": "python",
   "pygments_lexer": "ipython3",
   "version": "3.13.1"
  }
 },
 "nbformat": 4,
 "nbformat_minor": 2
}
