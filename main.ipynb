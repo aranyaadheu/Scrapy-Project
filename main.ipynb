{
 "cells": [
  {
   "cell_type": "code",
   "execution_count": 15,
   "metadata": {},
   "outputs": [
    {
     "name": "stdout",
     "output_type": "stream",
     "text": [
      "Top 25 movies on IMDb:\n",
      "\n",
      "1. The Shawshank Redemption - Rating: 9.3\n",
      "2. The Godfather - Rating: 9.2\n",
      "3. The Dark Knight - Rating: 9.0\n",
      "4. The Godfather Part II - Rating: 9.0\n",
      "5. 12 Angry Men - Rating: 9.0\n",
      "6. The Lord of the Rings: The Return of the King - Rating: 9.0\n",
      "7. Schindler's List - Rating: 9.0\n",
      "8. Pulp Fiction - Rating: 8.9\n",
      "9. The Lord of the Rings: The Fellowship of the Ring - Rating: 8.9\n",
      "10. Il buono, il brutto, il cattivo - Rating: 8.8\n",
      "11. Forrest Gump - Rating: 8.8\n",
      "12. The Lord of the Rings: The Two Towers - Rating: 8.8\n",
      "13. Fight Club - Rating: 8.8\n",
      "14. Inception - Rating: 8.8\n",
      "15. Star Wars: Episode V - The Empire Strikes Back - Rating: 8.7\n",
      "16. The Matrix - Rating: 8.7\n",
      "17. GoodFellas - Rating: 8.7\n",
      "18. One Flew Over the Cuckoo's Nest - Rating: 8.7\n",
      "19. Interstellar - Rating: 8.7\n",
      "20. Se7en - Rating: 8.6\n",
      "21. It's a Wonderful Life - Rating: 8.6\n",
      "22. Shichinin no samurai - Rating: 8.6\n",
      "23. The Silence of the Lambs - Rating: 8.6\n",
      "24. Saving Private Ryan - Rating: 8.6\n",
      "25. Cidade de Deus - Rating: 8.6\n"
     ]
    }
   ],
   "source": [
    "import requests\n",
    "from bs4 import BeautifulSoup\n",
    "\n",
    "def get_top_movies():\n",
    "    url = \"https://www.imdb.com/chart/top/\"\n",
    "    headers = {\"User-Agent\": \"Mozilla/5.0\"}\n",
    "    response = requests.get(url, headers=headers)\n",
    "\n",
    "    if response.status_code != 200:\n",
    "        print(\"Failed to retrieve data\")\n",
    "        return []\n",
    "    \n",
    "    soup = BeautifulSoup(response.text, \"html.parser\")\n",
    "    movies = []\n",
    "\n",
    "    for item in soup.select(\"li.ipc-metadata-list-summary-item\")[:25]:\n",
    "        title_tag = item.select_one(\"h3\")  \n",
    "        title = title_tag.text.strip().split('. ', 1)[-1] if title_tag else \"Unknown\"\n",
    "\n",
    "        rating_tag = item.select_one(\"span.ipc-rating-star--rating\")\n",
    "        rating = rating_tag.text.strip() if rating_tag else \"N/A\"\n",
    "\n",
    "        movies.append((title, rating))\n",
    "\n",
    "    return movies\n",
    "\n",
    "def main():\n",
    "    top_movies = get_top_movies()\n",
    "\n",
    "    if top_movies:\n",
    "        print(\"Top 25 movies on IMDb:\\n\")\n",
    "        for idx, (title, rating) in enumerate(top_movies, 1):\n",
    "            print(f\"{idx}. {title} - Rating: {rating}\")\n",
    "    else:\n",
    "        print(\"No movies found.\")\n",
    "\n",
    "if __name__ == \"__main__\":\n",
    "    main()\n"
   ]
  }
 ],
 "metadata": {
  "kernelspec": {
   "display_name": "Python 3",
   "language": "python",
   "name": "python3"
  },
  "language_info": {
   "codemirror_mode": {
    "name": "ipython",
    "version": 3
   },
   "file_extension": ".py",
   "mimetype": "text/x-python",
   "name": "python",
   "nbconvert_exporter": "python",
   "pygments_lexer": "ipython3",
   "version": "3.13.1"
  }
 },
 "nbformat": 4,
 "nbformat_minor": 2
}
