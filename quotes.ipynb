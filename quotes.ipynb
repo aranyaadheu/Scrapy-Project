{
 "cells": [
  {
   "cell_type": "code",
   "execution_count": 1,
   "metadata": {},
   "outputs": [
    {
     "name": "stdout",
     "output_type": "stream",
     "text": [
      "Recent quotes:\n",
      "\n",
      "1. “The world as we have created it is a process of our thinking. It cannot be changed without changing our thinking.”\n",
      "2. “It is our choices, Harry, that show what we truly are, far more than our abilities.”\n",
      "3. “There are only two ways to live your life. One is as though nothing is a miracle. The other is as though everything is a miracle.”\n",
      "4. “The person, be it gentleman or lady, who has not pleasure in a good novel, must be intolerably stupid.”\n",
      "5. “Imperfection is beauty, madness is genius and it's better to be absolutely ridiculous than absolutely boring.”\n",
      "6. “Try not to become a man of success. Rather become a man of value.”\n",
      "7. “It is better to be hated for what you are than to be loved for what you are not.”\n",
      "8. “I have not failed. I've just found 10,000 ways that won't work.”\n",
      "9. “A woman is like a tea bag; you never know how strong it is until it's in hot water.”\n",
      "10. “A day without sunshine is like, you know, night.”\n"
     ]
    }
   ],
   "source": [
    "import requests\n",
    "from bs4 import BeautifulSoup\n",
    "\n",
    "def scrape_quotes():\n",
    "    url = \"https://quotes.toscrape.com/\"\n",
    "    response = requests.get(url)\n",
    "\n",
    "    if response.status_code != 200:\n",
    "        print(\"Failed to retrieve the page\")\n",
    "        return\n",
    "    \n",
    "    soup = BeautifulSoup(response.text, 'html.parser')\n",
    "\n",
    "    quotes = soup.find_all(\"span\", class_=\"text\")\n",
    "\n",
    "    print(\"Recent quotes:\\n\")\n",
    "\n",
    "    for idx, quote in enumerate(quotes, 1):\n",
    "        print(f\"{idx}. {quote.text.strip()}\")\n",
    "\n",
    "scrape_quotes()"
   ]
  }
 ],
 "metadata": {
  "kernelspec": {
   "display_name": "Python 3",
   "language": "python",
   "name": "python3"
  },
  "language_info": {
   "codemirror_mode": {
    "name": "ipython",
    "version": 3
   },
   "file_extension": ".py",
   "mimetype": "text/x-python",
   "name": "python",
   "nbconvert_exporter": "python",
   "pygments_lexer": "ipython3",
   "version": "3.13.1"
  }
 },
 "nbformat": 4,
 "nbformat_minor": 2
}
